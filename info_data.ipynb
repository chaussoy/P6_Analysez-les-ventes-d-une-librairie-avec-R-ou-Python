{
 "cells": [
  {
   "cell_type": "code",
   "execution_count": 1,
   "id": "87c0a24c",
   "metadata": {},
   "outputs": [],
   "source": [
    "def info_data(df):\n",
    "    print('\\033[1;34mContrôle_import_dataframe\\033[0m')\n",
    "    print(df.head())\n",
    "    print ('-'*45)\n",
    "    print('\\033[1;34mInfos_du_dataframe\\033[0m')\n",
    "    print(df.info())\n",
    "    print ('-'*45)\n",
    "    print('\\033[1;34mRecherche_des_doublons\\033[0m')\n",
    "    print(df.duplicated().sum())\n",
    "    print ('-'*45)\n",
    "    print('\\033[1;34mRecherche_des_valeurs_manquantes\\033[0m')\n",
    "    print(df.isna().sum())\n",
    "    print ('-'*45)\n",
    "    print('\\033[1;34mNombre_de_valeurs_uniques_par_variables\\033[0m')\n",
    "    print(df.nunique())\n",
    "    print ('-'*45)\n",
    "    print('\\033[1;34mIndicateurs statistiques\\033[0m')\n",
    "    print(df.describe())\n",
    "    print ('-'*45)"
   ]
  },
  {
   "cell_type": "code",
   "execution_count": null,
   "id": "05cf34dc",
   "metadata": {},
   "outputs": [],
   "source": []
  }
 ],
 "metadata": {
  "kernelspec": {
   "display_name": "Python 3 (ipykernel)",
   "language": "python",
   "name": "python3"
  },
  "language_info": {
   "codemirror_mode": {
    "name": "ipython",
    "version": 3
   },
   "file_extension": ".py",
   "mimetype": "text/x-python",
   "name": "python",
   "nbconvert_exporter": "python",
   "pygments_lexer": "ipython3",
   "version": "3.9.13"
  }
 },
 "nbformat": 4,
 "nbformat_minor": 5
}
